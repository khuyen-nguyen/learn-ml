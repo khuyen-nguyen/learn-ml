{
 "cells": [
  {
   "cell_type": "code",
   "execution_count": 1,
   "metadata": {},
   "outputs": [],
   "source": [
    "import pandas as pd\n",
    "import numpy as np"
   ]
  },
  {
   "cell_type": "code",
   "execution_count": 2,
   "metadata": {},
   "outputs": [],
   "source": [
    "labeled_data = pd.read_csv(\"labeledTrainData.tsv\", sep=\"\\t\")"
   ]
  },
  {
   "cell_type": "code",
   "execution_count": 3,
   "metadata": {},
   "outputs": [],
   "source": [
    "unlabeled_data = pd.read_csv(\"unlabeledTrainData.tsv\", sep=\"\\t\", quoting=3)"
   ]
  },
  {
   "cell_type": "code",
   "execution_count": 4,
   "metadata": {},
   "outputs": [
    {
     "data": {
      "text/html": [
       "<div>\n",
       "<style scoped>\n",
       "    .dataframe tbody tr th:only-of-type {\n",
       "        vertical-align: middle;\n",
       "    }\n",
       "\n",
       "    .dataframe tbody tr th {\n",
       "        vertical-align: top;\n",
       "    }\n",
       "\n",
       "    .dataframe thead th {\n",
       "        text-align: right;\n",
       "    }\n",
       "</style>\n",
       "<table border=\"1\" class=\"dataframe\">\n",
       "  <thead>\n",
       "    <tr style=\"text-align: right;\">\n",
       "      <th></th>\n",
       "      <th>id</th>\n",
       "      <th>sentiment</th>\n",
       "      <th>review</th>\n",
       "    </tr>\n",
       "  </thead>\n",
       "  <tbody>\n",
       "    <tr>\n",
       "      <th>0</th>\n",
       "      <td>5814_8</td>\n",
       "      <td>1</td>\n",
       "      <td>With all this stuff going down at the moment w...</td>\n",
       "    </tr>\n",
       "    <tr>\n",
       "      <th>1</th>\n",
       "      <td>2381_9</td>\n",
       "      <td>1</td>\n",
       "      <td>\\The Classic War of the Worlds\\\" by Timothy Hi...</td>\n",
       "    </tr>\n",
       "    <tr>\n",
       "      <th>2</th>\n",
       "      <td>7759_3</td>\n",
       "      <td>0</td>\n",
       "      <td>The film starts with a manager (Nicholas Bell)...</td>\n",
       "    </tr>\n",
       "    <tr>\n",
       "      <th>3</th>\n",
       "      <td>3630_4</td>\n",
       "      <td>0</td>\n",
       "      <td>It must be assumed that those who praised this...</td>\n",
       "    </tr>\n",
       "    <tr>\n",
       "      <th>4</th>\n",
       "      <td>9495_8</td>\n",
       "      <td>1</td>\n",
       "      <td>Superbly trashy and wondrously unpretentious 8...</td>\n",
       "    </tr>\n",
       "    <tr>\n",
       "      <th>5</th>\n",
       "      <td>8196_8</td>\n",
       "      <td>1</td>\n",
       "      <td>I dont know why people think this is such a ba...</td>\n",
       "    </tr>\n",
       "    <tr>\n",
       "      <th>6</th>\n",
       "      <td>7166_2</td>\n",
       "      <td>0</td>\n",
       "      <td>This movie could have been very good, but come...</td>\n",
       "    </tr>\n",
       "    <tr>\n",
       "      <th>7</th>\n",
       "      <td>10633_1</td>\n",
       "      <td>0</td>\n",
       "      <td>I watched this video at a friend's house. I'm ...</td>\n",
       "    </tr>\n",
       "    <tr>\n",
       "      <th>8</th>\n",
       "      <td>319_1</td>\n",
       "      <td>0</td>\n",
       "      <td>A friend of mine bought this film for £1, and ...</td>\n",
       "    </tr>\n",
       "    <tr>\n",
       "      <th>9</th>\n",
       "      <td>8713_10</td>\n",
       "      <td>1</td>\n",
       "      <td>&lt;br /&gt;&lt;br /&gt;This movie is full of references. ...</td>\n",
       "    </tr>\n",
       "  </tbody>\n",
       "</table>\n",
       "</div>"
      ],
      "text/plain": [
       "        id  sentiment                                             review\n",
       "0   5814_8          1  With all this stuff going down at the moment w...\n",
       "1   2381_9          1  \\The Classic War of the Worlds\\\" by Timothy Hi...\n",
       "2   7759_3          0  The film starts with a manager (Nicholas Bell)...\n",
       "3   3630_4          0  It must be assumed that those who praised this...\n",
       "4   9495_8          1  Superbly trashy and wondrously unpretentious 8...\n",
       "5   8196_8          1  I dont know why people think this is such a ba...\n",
       "6   7166_2          0  This movie could have been very good, but come...\n",
       "7  10633_1          0  I watched this video at a friend's house. I'm ...\n",
       "8    319_1          0  A friend of mine bought this film for £1, and ...\n",
       "9  8713_10          1  <br /><br />This movie is full of references. ..."
      ]
     },
     "execution_count": 4,
     "metadata": {},
     "output_type": "execute_result"
    }
   ],
   "source": [
    "labeled_data.head(10)"
   ]
  },
  {
   "cell_type": "code",
   "execution_count": 5,
   "metadata": {},
   "outputs": [
    {
     "data": {
      "text/html": [
       "<div>\n",
       "<style scoped>\n",
       "    .dataframe tbody tr th:only-of-type {\n",
       "        vertical-align: middle;\n",
       "    }\n",
       "\n",
       "    .dataframe tbody tr th {\n",
       "        vertical-align: top;\n",
       "    }\n",
       "\n",
       "    .dataframe thead th {\n",
       "        text-align: right;\n",
       "    }\n",
       "</style>\n",
       "<table border=\"1\" class=\"dataframe\">\n",
       "  <thead>\n",
       "    <tr style=\"text-align: right;\">\n",
       "      <th></th>\n",
       "      <th>id</th>\n",
       "      <th>review</th>\n",
       "    </tr>\n",
       "  </thead>\n",
       "  <tbody>\n",
       "    <tr>\n",
       "      <th>0</th>\n",
       "      <td>\"9999_0\"</td>\n",
       "      <td>\"Watching Time Chasers, it obvious that it was...</td>\n",
       "    </tr>\n",
       "    <tr>\n",
       "      <th>1</th>\n",
       "      <td>\"45057_0\"</td>\n",
       "      <td>\"I saw this film about 20 years ago and rememb...</td>\n",
       "    </tr>\n",
       "    <tr>\n",
       "      <th>2</th>\n",
       "      <td>\"15561_0\"</td>\n",
       "      <td>\"Minor Spoilers&lt;br /&gt;&lt;br /&gt;In New York, Joan B...</td>\n",
       "    </tr>\n",
       "    <tr>\n",
       "      <th>3</th>\n",
       "      <td>\"7161_0\"</td>\n",
       "      <td>\"I went to see this film with a great deal of ...</td>\n",
       "    </tr>\n",
       "    <tr>\n",
       "      <th>4</th>\n",
       "      <td>\"43971_0\"</td>\n",
       "      <td>\"Yes, I agree with everyone on this site this ...</td>\n",
       "    </tr>\n",
       "    <tr>\n",
       "      <th>5</th>\n",
       "      <td>\"36495_0\"</td>\n",
       "      <td>\"Jennifer Ehle was sparkling in \\\"Pride and Pr...</td>\n",
       "    </tr>\n",
       "    <tr>\n",
       "      <th>6</th>\n",
       "      <td>\"49472_0\"</td>\n",
       "      <td>\"Amy Poehler is a terrific comedian on Saturda...</td>\n",
       "    </tr>\n",
       "    <tr>\n",
       "      <th>7</th>\n",
       "      <td>\"36693_0\"</td>\n",
       "      <td>\"A plane carrying employees of a large biotech...</td>\n",
       "    </tr>\n",
       "    <tr>\n",
       "      <th>8</th>\n",
       "      <td>\"316_0\"</td>\n",
       "      <td>\"A well made, gritty science fiction movie, it...</td>\n",
       "    </tr>\n",
       "    <tr>\n",
       "      <th>9</th>\n",
       "      <td>\"32454_0\"</td>\n",
       "      <td>\"Incredibly dumb and utterly predictable story...</td>\n",
       "    </tr>\n",
       "  </tbody>\n",
       "</table>\n",
       "</div>"
      ],
      "text/plain": [
       "          id                                             review\n",
       "0   \"9999_0\"  \"Watching Time Chasers, it obvious that it was...\n",
       "1  \"45057_0\"  \"I saw this film about 20 years ago and rememb...\n",
       "2  \"15561_0\"  \"Minor Spoilers<br /><br />In New York, Joan B...\n",
       "3   \"7161_0\"  \"I went to see this film with a great deal of ...\n",
       "4  \"43971_0\"  \"Yes, I agree with everyone on this site this ...\n",
       "5  \"36495_0\"  \"Jennifer Ehle was sparkling in \\\"Pride and Pr...\n",
       "6  \"49472_0\"  \"Amy Poehler is a terrific comedian on Saturda...\n",
       "7  \"36693_0\"  \"A plane carrying employees of a large biotech...\n",
       "8    \"316_0\"  \"A well made, gritty science fiction movie, it...\n",
       "9  \"32454_0\"  \"Incredibly dumb and utterly predictable story..."
      ]
     },
     "execution_count": 5,
     "metadata": {},
     "output_type": "execute_result"
    }
   ],
   "source": [
    "unlabeled_data.head(10)"
   ]
  },
  {
   "cell_type": "code",
   "execution_count": 6,
   "metadata": {},
   "outputs": [
    {
     "name": "stdout",
     "output_type": "stream",
     "text": [
      "<class 'pandas.core.frame.DataFrame'>\n",
      "RangeIndex: 25000 entries, 0 to 24999\n",
      "Data columns (total 3 columns):\n",
      "id           25000 non-null object\n",
      "sentiment    25000 non-null int64\n",
      "review       25000 non-null object\n",
      "dtypes: int64(1), object(2)\n",
      "memory usage: 586.0+ KB\n"
     ]
    }
   ],
   "source": [
    "labeled_data.info()"
   ]
  },
  {
   "cell_type": "code",
   "execution_count": 7,
   "metadata": {},
   "outputs": [
    {
     "name": "stdout",
     "output_type": "stream",
     "text": [
      "<class 'pandas.core.frame.DataFrame'>\n",
      "RangeIndex: 50000 entries, 0 to 49999\n",
      "Data columns (total 2 columns):\n",
      "id        50000 non-null object\n",
      "review    50000 non-null object\n",
      "dtypes: object(2)\n",
      "memory usage: 781.3+ KB\n"
     ]
    }
   ],
   "source": [
    "unlabeled_data.info()"
   ]
  },
  {
   "cell_type": "code",
   "execution_count": 8,
   "metadata": {},
   "outputs": [
    {
     "data": {
      "text/html": [
       "<div>\n",
       "<style scoped>\n",
       "    .dataframe tbody tr th:only-of-type {\n",
       "        vertical-align: middle;\n",
       "    }\n",
       "\n",
       "    .dataframe tbody tr th {\n",
       "        vertical-align: top;\n",
       "    }\n",
       "\n",
       "    .dataframe thead th {\n",
       "        text-align: right;\n",
       "    }\n",
       "</style>\n",
       "<table border=\"1\" class=\"dataframe\">\n",
       "  <thead>\n",
       "    <tr style=\"text-align: right;\">\n",
       "      <th></th>\n",
       "      <th>sentiment</th>\n",
       "    </tr>\n",
       "  </thead>\n",
       "  <tbody>\n",
       "    <tr>\n",
       "      <th>count</th>\n",
       "      <td>25000.00000</td>\n",
       "    </tr>\n",
       "    <tr>\n",
       "      <th>mean</th>\n",
       "      <td>0.50000</td>\n",
       "    </tr>\n",
       "    <tr>\n",
       "      <th>std</th>\n",
       "      <td>0.50001</td>\n",
       "    </tr>\n",
       "    <tr>\n",
       "      <th>min</th>\n",
       "      <td>0.00000</td>\n",
       "    </tr>\n",
       "    <tr>\n",
       "      <th>25%</th>\n",
       "      <td>0.00000</td>\n",
       "    </tr>\n",
       "    <tr>\n",
       "      <th>50%</th>\n",
       "      <td>0.50000</td>\n",
       "    </tr>\n",
       "    <tr>\n",
       "      <th>75%</th>\n",
       "      <td>1.00000</td>\n",
       "    </tr>\n",
       "    <tr>\n",
       "      <th>max</th>\n",
       "      <td>1.00000</td>\n",
       "    </tr>\n",
       "  </tbody>\n",
       "</table>\n",
       "</div>"
      ],
      "text/plain": [
       "         sentiment\n",
       "count  25000.00000\n",
       "mean       0.50000\n",
       "std        0.50001\n",
       "min        0.00000\n",
       "25%        0.00000\n",
       "50%        0.50000\n",
       "75%        1.00000\n",
       "max        1.00000"
      ]
     },
     "execution_count": 8,
     "metadata": {},
     "output_type": "execute_result"
    }
   ],
   "source": [
    "labeled_data.describe()"
   ]
  },
  {
   "cell_type": "code",
   "execution_count": 9,
   "metadata": {},
   "outputs": [
    {
     "data": {
      "text/html": [
       "<div>\n",
       "<style scoped>\n",
       "    .dataframe tbody tr th:only-of-type {\n",
       "        vertical-align: middle;\n",
       "    }\n",
       "\n",
       "    .dataframe tbody tr th {\n",
       "        vertical-align: top;\n",
       "    }\n",
       "\n",
       "    .dataframe thead th {\n",
       "        text-align: right;\n",
       "    }\n",
       "</style>\n",
       "<table border=\"1\" class=\"dataframe\">\n",
       "  <thead>\n",
       "    <tr style=\"text-align: right;\">\n",
       "      <th></th>\n",
       "      <th>id</th>\n",
       "      <th>review</th>\n",
       "    </tr>\n",
       "  </thead>\n",
       "  <tbody>\n",
       "    <tr>\n",
       "      <th>count</th>\n",
       "      <td>50000</td>\n",
       "      <td>50000</td>\n",
       "    </tr>\n",
       "    <tr>\n",
       "      <th>unique</th>\n",
       "      <td>50000</td>\n",
       "      <td>49507</td>\n",
       "    </tr>\n",
       "    <tr>\n",
       "      <th>top</th>\n",
       "      <td>\"15840_0\"</td>\n",
       "      <td>\"Am not from America, I usually watch this sho...</td>\n",
       "    </tr>\n",
       "    <tr>\n",
       "      <th>freq</th>\n",
       "      <td>1</td>\n",
       "      <td>5</td>\n",
       "    </tr>\n",
       "  </tbody>\n",
       "</table>\n",
       "</div>"
      ],
      "text/plain": [
       "               id                                             review\n",
       "count       50000                                              50000\n",
       "unique      50000                                              49507\n",
       "top     \"15840_0\"  \"Am not from America, I usually watch this sho...\n",
       "freq            1                                                  5"
      ]
     },
     "execution_count": 9,
     "metadata": {},
     "output_type": "execute_result"
    }
   ],
   "source": [
    "unlabeled_data.describe()"
   ]
  },
  {
   "cell_type": "code",
   "execution_count": 10,
   "metadata": {},
   "outputs": [
    {
     "data": {
      "text/plain": [
       "\"With all this stuff going down at the moment with MJ i've started listening to his music, watching the odd documentary here and there, watched The Wiz and watched Moonwalker again. Maybe i just want to get a certain insight into this guy who i thought was really cool in the eighties just to maybe make up my mind whether he is guilty or innocent. Moonwalker is part biography, part feature film which i remember going to see at the cinema when it was originally released. Some of it has subtle messages about MJ's feeling towards the press and also the obvious message of drugs are bad m'kay.<br /><br />Visually impressive but of course this is all about Michael Jackson so unless you remotely like MJ in anyway then you are going to hate this and find it boring. Some may call MJ an egotist for consenting to the making of this movie BUT MJ and most of his fans would say that he made it for the fans which if true is really nice of him.<br /><br />The actual feature film bit when it finally starts is only on for 20 minutes or so excluding the Smooth Criminal sequence and Joe Pesci is convincing as a psychopathic all powerful drug lord. Why he wants MJ dead so bad is beyond me. Because MJ overheard his plans? Nah, Joe Pesci's character ranted that he wanted people to know it is he who is supplying drugs etc so i dunno, maybe he just hates MJ's music.<br /><br />Lots of cool things in this like MJ turning into a car and a robot and the whole Speed Demon sequence. Also, the director must have had the patience of a saint when it came to filming the kiddy Bad sequence as usually directors hate working with one kid let alone a whole bunch of them performing a complex dance scene.<br /><br />Bottom line, this movie is for people who like MJ on one level or another (which i think is most people). If not, then stay away. It does try and give off a wholesome message and ironically MJ's bestest buddy in this movie is a girl! Michael Jackson is truly one of the most talented people ever to grace this planet but is he guilty? Well, with all the attention i've gave this subject....hmmm well i don't know because people can be different behind closed doors, i know this for a fact. He is either an extremely nice but stupid guy or one of the most sickest liars. I hope he is not the latter.\""
      ]
     },
     "execution_count": 10,
     "metadata": {},
     "output_type": "execute_result"
    }
   ],
   "source": [
    "labeled_data.review[0]"
   ]
  },
  {
   "cell_type": "code",
   "execution_count": 11,
   "metadata": {},
   "outputs": [
    {
     "data": {
      "text/plain": [
       "'\"Watching Time Chasers, it obvious that it was made by a bunch of friends. Maybe they were sitting around one day in film school and said, \\\\\"Hey, let\\'s pool our money together and make a really bad movie!\\\\\" Or something like that. What ever they said, they still ended up making a really bad movie--dull story, bad script, lame acting, poor cinematography, bottom of the barrel stock music, etc. All corners were cut, except the one that would have prevented this film\\'s release. Life\\'s like that.\"'"
      ]
     },
     "execution_count": 11,
     "metadata": {},
     "output_type": "execute_result"
    }
   ],
   "source": [
    " unlabeled_data[\"review\"][0]"
   ]
  },
  {
   "cell_type": "code",
   "execution_count": 12,
   "metadata": {},
   "outputs": [],
   "source": [
    "import bs4\n",
    "\n",
    "def remove_html_tags(review_series):\n",
    "    return review_series.apply(lambda x: bs4.BeautifulSoup(x, \"lxml\").get_text())"
   ]
  },
  {
   "cell_type": "code",
   "execution_count": 13,
   "metadata": {},
   "outputs": [
    {
     "name": "stdout",
     "output_type": "stream",
     "text": [
      "With all this stuff going down at the moment with MJ i've started listening to his music, watching the odd documentary here and there, watched The Wiz and watched Moonwalker again. Maybe i just want to get a certain insight into this guy who i thought was really cool in the eighties just to maybe make up my mind whether he is guilty or innocent. Moonwalker is part biography, part feature film which i remember going to see at the cinema when it was originally released. Some of it has subtle messages about MJ's feeling towards the press and also the obvious message of drugs are bad m'kay.Visually impressive but of course this is all about Michael Jackson so unless you remotely like MJ in anyway then you are going to hate this and find it boring. Some may call MJ an egotist for consenting to the making of this movie BUT MJ and most of his fans would say that he made it for the fans which if true is really nice of him.The actual feature film bit when it finally starts is only on for 20 minutes or so excluding the Smooth Criminal sequence and Joe Pesci is convincing as a psychopathic all powerful drug lord. Why he wants MJ dead so bad is beyond me. Because MJ overheard his plans? Nah, Joe Pesci's character ranted that he wanted people to know it is he who is supplying drugs etc so i dunno, maybe he just hates MJ's music.Lots of cool things in this like MJ turning into a car and a robot and the whole Speed Demon sequence. Also, the director must have had the patience of a saint when it came to filming the kiddy Bad sequence as usually directors hate working with one kid let alone a whole bunch of them performing a complex dance scene.Bottom line, this movie is for people who like MJ on one level or another (which i think is most people). If not, then stay away. It does try and give off a wholesome message and ironically MJ's bestest buddy in this movie is a girl! Michael Jackson is truly one of the most talented people ever to grace this planet but is he guilty? Well, with all the attention i've gave this subject....hmmm well i don't know because people can be different behind closed doors, i know this for a fact. He is either an extremely nice but stupid guy or one of the most sickest liars. I hope he is not the latter.\n",
      "\"Watching Time Chasers, it obvious that it was made by a bunch of friends. Maybe they were sitting around one day in film school and said, \\\"Hey, let's pool our money together and make a really bad movie!\\\" Or something like that. What ever they said, they still ended up making a really bad movie--dull story, bad script, lame acting, poor cinematography, bottom of the barrel stock music, etc. All corners were cut, except the one that would have prevented this film's release. Life's like that.\"\n"
     ]
    }
   ],
   "source": [
    "labeled_data[\"text\"] = remove_html_tags(labeled_data[\"review\"])\n",
    "unlabeled_data[\"text\"] = remove_html_tags(unlabeled_data[\"review\"])\n",
    "print(labeled_data[\"text\"][0])\n",
    "print(unlabeled_data[\"text\"][0])"
   ]
  },
  {
   "cell_type": "code",
   "execution_count": 14,
   "metadata": {},
   "outputs": [
    {
     "name": "stdout",
     "output_type": "stream",
     "text": [
      "Requirement already satisfied: spacy in /Users/khuyen/anaconda3/envs/tensorflow_env/lib/python3.6/site-packages (2.0.18)\n",
      "Requirement already satisfied: thinc<6.13.0,>=6.12.1 in /Users/khuyen/anaconda3/envs/tensorflow_env/lib/python3.6/site-packages (from spacy) (6.12.1)\n",
      "Requirement already satisfied: dill<0.3,>=0.2 in /Users/khuyen/anaconda3/envs/tensorflow_env/lib/python3.6/site-packages (from spacy) (0.2.8.2)\n",
      "Requirement already satisfied: numpy>=1.15.0 in /Users/khuyen/anaconda3/envs/tensorflow_env/lib/python3.6/site-packages (from spacy) (1.15.4)\n",
      "Requirement already satisfied: regex==2018.01.10 in /Users/khuyen/anaconda3/envs/tensorflow_env/lib/python3.6/site-packages (from spacy) (2018.1.10)\n",
      "Requirement already satisfied: cymem<2.1.0,>=2.0.2 in /Users/khuyen/anaconda3/envs/tensorflow_env/lib/python3.6/site-packages (from spacy) (2.0.2)\n",
      "Requirement already satisfied: requests<3.0.0,>=2.13.0 in /Users/khuyen/anaconda3/envs/tensorflow_env/lib/python3.6/site-packages (from spacy) (2.21.0)\n",
      "Requirement already satisfied: ujson>=1.35 in /Users/khuyen/anaconda3/envs/tensorflow_env/lib/python3.6/site-packages (from spacy) (1.35)\n",
      "Requirement already satisfied: preshed<2.1.0,>=2.0.1 in /Users/khuyen/anaconda3/envs/tensorflow_env/lib/python3.6/site-packages (from spacy) (2.0.1)\n",
      "Requirement already satisfied: murmurhash<1.1.0,>=0.28.0 in /Users/khuyen/anaconda3/envs/tensorflow_env/lib/python3.6/site-packages (from spacy) (1.0.1)\n",
      "Requirement already satisfied: plac<1.0.0,>=0.9.6 in /Users/khuyen/anaconda3/envs/tensorflow_env/lib/python3.6/site-packages (from spacy) (0.9.6)\n",
      "Requirement already satisfied: six<2.0.0,>=1.10.0 in /Users/khuyen/anaconda3/envs/tensorflow_env/lib/python3.6/site-packages (from thinc<6.13.0,>=6.12.1->spacy) (1.12.0)\n",
      "Requirement already satisfied: msgpack-numpy<0.4.4 in /Users/khuyen/anaconda3/envs/tensorflow_env/lib/python3.6/site-packages (from thinc<6.13.0,>=6.12.1->spacy) (0.4.3.2)\n",
      "Requirement already satisfied: tqdm<5.0.0,>=4.10.0 in /Users/khuyen/anaconda3/envs/tensorflow_env/lib/python3.6/site-packages (from thinc<6.13.0,>=6.12.1->spacy) (4.28.1)\n",
      "Requirement already satisfied: wrapt<1.11.0,>=1.10.0 in /Users/khuyen/anaconda3/envs/tensorflow_env/lib/python3.6/site-packages (from thinc<6.13.0,>=6.12.1->spacy) (1.10.11)\n",
      "Requirement already satisfied: msgpack<0.6.0,>=0.5.6 in /Users/khuyen/anaconda3/envs/tensorflow_env/lib/python3.6/site-packages (from thinc<6.13.0,>=6.12.1->spacy) (0.5.6)\n",
      "Requirement already satisfied: cytoolz<0.10,>=0.9.0 in /Users/khuyen/anaconda3/envs/tensorflow_env/lib/python3.6/site-packages (from thinc<6.13.0,>=6.12.1->spacy) (0.9.0.1)\n",
      "Requirement already satisfied: urllib3<1.25,>=1.21.1 in /Users/khuyen/anaconda3/envs/tensorflow_env/lib/python3.6/site-packages (from requests<3.0.0,>=2.13.0->spacy) (1.24.1)\n",
      "Requirement already satisfied: certifi>=2017.4.17 in /Users/khuyen/anaconda3/envs/tensorflow_env/lib/python3.6/site-packages (from requests<3.0.0,>=2.13.0->spacy) (2018.11.29)\n",
      "Requirement already satisfied: idna<2.9,>=2.5 in /Users/khuyen/anaconda3/envs/tensorflow_env/lib/python3.6/site-packages (from requests<3.0.0,>=2.13.0->spacy) (2.8)\n",
      "Requirement already satisfied: chardet<3.1.0,>=3.0.2 in /Users/khuyen/anaconda3/envs/tensorflow_env/lib/python3.6/site-packages (from requests<3.0.0,>=2.13.0->spacy) (3.0.4)\n",
      "Requirement already satisfied: toolz>=0.8.0 in /Users/khuyen/anaconda3/envs/tensorflow_env/lib/python3.6/site-packages (from cytoolz<0.10,>=0.9.0->thinc<6.13.0,>=6.12.1->spacy) (0.9.0)\n"
     ]
    }
   ],
   "source": [
    "import sys\n",
    "!{sys.executable} -m pip install spacy"
   ]
  },
  {
   "cell_type": "code",
   "execution_count": 15,
   "metadata": {},
   "outputs": [],
   "source": [
    "import spacy\n",
    "nlp = spacy.blank(\"en\")\n",
    "from tqdm import tqdm\n",
    "tqdm.pandas()\n",
    "\n",
    "def get_tokens(text_series):\n",
    "    return text_series.progress_apply(lambda x: [word.lower_ for word in nlp(x)\n",
    "                                                 if not word.is_stop and not word.is_punct])"
   ]
  },
  {
   "cell_type": "code",
   "execution_count": 16,
   "metadata": {},
   "outputs": [
    {
     "name": "stderr",
     "output_type": "stream",
     "text": [
      "100%|██████████| 25000/25000 [02:51<00:00, 145.57it/s]\n",
      "100%|██████████| 50000/50000 [05:36<00:00, 148.43it/s]"
     ]
    },
    {
     "name": "stdout",
     "output_type": "stream",
     "text": [
      "0    [with, stuff, going, moment, mj, 've, started,...\n",
      "1    [\\the, classic, war, worlds\\, timothy, hines, ...\n",
      "2    [the, film, starts, manager, nicholas, bell, g...\n",
      "3    [it, assumed, praised, film, \\the, greatest, f...\n",
      "4    [superbly, trashy, wondrously, unpretentious, ...\n",
      "Name: tokens, dtype: object\n",
      "0    [watching, time, chasers, obvious, bunch, frie...\n",
      "1    [i, saw, film, 20, years, ago, remember, parti...\n",
      "2    [minor, spoilersin, new, york, joan, barnard, ...\n",
      "3    [i, went, film, great, deal, excitement, i, sc...\n",
      "4    [yes, i, agree, site, movie, very, very, bad, ...\n",
      "Name: tokens, dtype: object\n"
     ]
    },
    {
     "name": "stderr",
     "output_type": "stream",
     "text": [
      "\n"
     ]
    }
   ],
   "source": [
    "labeled_data[\"tokens\"] = get_tokens(labeled_data[\"text\"])\n",
    "unlabeled_data[\"tokens\"] = get_tokens(unlabeled_data[\"text\"])\n",
    "print(labeled_data[\"tokens\"].head())\n",
    "print(unlabeled_data[\"tokens\"].head())"
   ]
  },
  {
   "cell_type": "code",
   "execution_count": 17,
   "metadata": {},
   "outputs": [
    {
     "name": "stdout",
     "output_type": "stream",
     "text": [
      "Requirement already satisfied: gensim in /Users/khuyen/anaconda3/envs/tensorflow_env/lib/python3.6/site-packages (3.6.0)\n",
      "Requirement already satisfied: smart-open>=1.2.1 in /Users/khuyen/anaconda3/envs/tensorflow_env/lib/python3.6/site-packages (from gensim) (1.7.1)\n",
      "Requirement already satisfied: scipy>=0.18.1 in /Users/khuyen/anaconda3/envs/tensorflow_env/lib/python3.6/site-packages (from gensim) (1.1.0)\n",
      "Requirement already satisfied: numpy>=1.11.3 in /Users/khuyen/anaconda3/envs/tensorflow_env/lib/python3.6/site-packages (from gensim) (1.15.4)\n",
      "Requirement already satisfied: six>=1.5.0 in /Users/khuyen/anaconda3/envs/tensorflow_env/lib/python3.6/site-packages (from gensim) (1.12.0)\n",
      "Requirement already satisfied: bz2file in /Users/khuyen/anaconda3/envs/tensorflow_env/lib/python3.6/site-packages (from smart-open>=1.2.1->gensim) (0.98)\n",
      "Requirement already satisfied: requests in /Users/khuyen/anaconda3/envs/tensorflow_env/lib/python3.6/site-packages (from smart-open>=1.2.1->gensim) (2.21.0)\n",
      "Requirement already satisfied: boto>=2.32 in /Users/khuyen/anaconda3/envs/tensorflow_env/lib/python3.6/site-packages (from smart-open>=1.2.1->gensim) (2.49.0)\n",
      "Requirement already satisfied: boto3 in /Users/khuyen/anaconda3/envs/tensorflow_env/lib/python3.6/site-packages (from smart-open>=1.2.1->gensim) (1.9.74)\n",
      "Requirement already satisfied: urllib3<1.25,>=1.21.1 in /Users/khuyen/anaconda3/envs/tensorflow_env/lib/python3.6/site-packages (from requests->smart-open>=1.2.1->gensim) (1.24.1)\n",
      "Requirement already satisfied: chardet<3.1.0,>=3.0.2 in /Users/khuyen/anaconda3/envs/tensorflow_env/lib/python3.6/site-packages (from requests->smart-open>=1.2.1->gensim) (3.0.4)\n",
      "Requirement already satisfied: idna<2.9,>=2.5 in /Users/khuyen/anaconda3/envs/tensorflow_env/lib/python3.6/site-packages (from requests->smart-open>=1.2.1->gensim) (2.8)\n",
      "Requirement already satisfied: certifi>=2017.4.17 in /Users/khuyen/anaconda3/envs/tensorflow_env/lib/python3.6/site-packages (from requests->smart-open>=1.2.1->gensim) (2018.11.29)\n",
      "Requirement already satisfied: jmespath<1.0.0,>=0.7.1 in /Users/khuyen/anaconda3/envs/tensorflow_env/lib/python3.6/site-packages (from boto3->smart-open>=1.2.1->gensim) (0.9.3)\n",
      "Requirement already satisfied: s3transfer<0.2.0,>=0.1.10 in /Users/khuyen/anaconda3/envs/tensorflow_env/lib/python3.6/site-packages (from boto3->smart-open>=1.2.1->gensim) (0.1.13)\n",
      "Requirement already satisfied: botocore<1.13.0,>=1.12.74 in /Users/khuyen/anaconda3/envs/tensorflow_env/lib/python3.6/site-packages (from boto3->smart-open>=1.2.1->gensim) (1.12.74)\n",
      "Requirement already satisfied: docutils>=0.10 in /Users/khuyen/anaconda3/envs/tensorflow_env/lib/python3.6/site-packages (from botocore<1.13.0,>=1.12.74->boto3->smart-open>=1.2.1->gensim) (0.14)\n",
      "Requirement already satisfied: python-dateutil<3.0.0,>=2.1; python_version >= \"2.7\" in /Users/khuyen/anaconda3/envs/tensorflow_env/lib/python3.6/site-packages (from botocore<1.13.0,>=1.12.74->boto3->smart-open>=1.2.1->gensim) (2.7.5)\n"
     ]
    }
   ],
   "source": [
    "!{sys.executable} -m pip install gensim"
   ]
  },
  {
   "cell_type": "markdown",
   "metadata": {},
   "source": [
    "# Features"
   ]
  },
  {
   "cell_type": "code",
   "execution_count": 18,
   "metadata": {},
   "outputs": [],
   "source": [
    "from sklearn.model_selection import train_test_split\n",
    "\n",
    "train_tokens, test_tokens, train_labels, test_labels = train_test_split(\n",
    "            labeled_data[\"tokens\"].tolist(), labeled_data[\"sentiment\"].tolist(), \n",
    "            test_size=0.2, random_state=0)"
   ]
  },
  {
   "cell_type": "code",
   "execution_count": 19,
   "metadata": {},
   "outputs": [],
   "source": [
    "from gensim.models.word2vec import Word2Vec\n",
    "\n",
    "n_feat = 300\n",
    "tokens = train_tokens + unlabeled_data[\"tokens\"].tolist()\n",
    "\n",
    "w2v = Word2Vec(tokens, size=n_feat)"
   ]
  },
  {
   "cell_type": "code",
   "execution_count": 20,
   "metadata": {},
   "outputs": [
    {
     "name": "stderr",
     "output_type": "stream",
     "text": [
      "/Users/khuyen/anaconda3/envs/tensorflow_env/lib/python3.6/site-packages/ipykernel_launcher.py:1: DeprecationWarning: Call to deprecated `most_similar` (Method will be removed in 4.0.0, use self.wv.most_similar() instead).\n",
      "  \"\"\"Entry point for launching an IPython kernel.\n",
      "/Users/khuyen/anaconda3/envs/tensorflow_env/lib/python3.6/site-packages/gensim/matutils.py:737: FutureWarning: Conversion of the second argument of issubdtype from `int` to `np.signedinteger` is deprecated. In future, it will be treated as `np.int64 == np.dtype(int).type`.\n",
      "  if np.issubdtype(vec.dtype, np.int):\n"
     ]
    },
    {
     "data": {
      "text/plain": [
       "[('decent', 0.7456368207931519),\n",
       " ('great', 0.6455949544906616),\n",
       " ('fine', 0.6201246380805969),\n",
       " ('nice', 0.6167072653770447),\n",
       " ('ok', 0.6102136373519897),\n",
       " ('alright', 0.6012417674064636),\n",
       " ('okay', 0.5902667045593262),\n",
       " ('lousy', 0.5628319978713989),\n",
       " ('excellent', 0.5579823851585388),\n",
       " ('bad', 0.5571773052215576)]"
      ]
     },
     "execution_count": 20,
     "metadata": {},
     "output_type": "execute_result"
    }
   ],
   "source": [
    "w2v.most_similar(\"good\")"
   ]
  },
  {
   "cell_type": "code",
   "execution_count": 21,
   "metadata": {},
   "outputs": [
    {
     "name": "stderr",
     "output_type": "stream",
     "text": [
      "/Users/khuyen/anaconda3/envs/tensorflow_env/lib/python3.6/site-packages/ipykernel_launcher.py:1: DeprecationWarning: Call to deprecated `doesnt_match` (Method will be removed in 4.0.0, use self.wv.doesnt_match() instead).\n",
      "  \"\"\"Entry point for launching an IPython kernel.\n"
     ]
    },
    {
     "data": {
      "text/plain": [
       "'popcorn'"
      ]
     },
     "execution_count": 21,
     "metadata": {},
     "output_type": "execute_result"
    }
   ],
   "source": [
    "w2v.doesnt_match([\"good\", \"decent\", \"popcorn\", \"great\"])"
   ]
  },
  {
   "cell_type": "markdown",
   "metadata": {},
   "source": [
    "# Avg vector"
   ]
  },
  {
   "cell_type": "code",
   "execution_count": 22,
   "metadata": {},
   "outputs": [],
   "source": [
    "from sklearn.preprocessing import scale # center the mean\n",
    "\n",
    "def get_avg_wv(tokens_series, n_feat, w2v):\n",
    "    vec = np.zeros((len(tokens_series), 1, n_feat))\n",
    "    for i, tokens in enumerate(tokens_series):\n",
    "        count = 0.\n",
    "        for word in tokens:\n",
    "            try:\n",
    "                vec[i, :] += w2v[word].reshape(1, n_feat)\n",
    "                count += 1.\n",
    "            except KeyError: # handling the case where the token is not in the corpus\n",
    "                continue\n",
    "                \n",
    "        if count != 0:\n",
    "            vec[i, :] /= count\n",
    "    return scale(np.concatenate(vec))"
   ]
  },
  {
   "cell_type": "code",
   "execution_count": 23,
   "metadata": {},
   "outputs": [
    {
     "name": "stderr",
     "output_type": "stream",
     "text": [
      "/Users/khuyen/anaconda3/envs/tensorflow_env/lib/python3.6/site-packages/ipykernel_launcher.py:9: DeprecationWarning: Call to deprecated `__getitem__` (Method will be removed in 4.0.0, use self.wv.__getitem__() instead).\n",
      "  if __name__ == '__main__':\n",
      "/Users/khuyen/anaconda3/envs/tensorflow_env/lib/python3.6/site-packages/ipykernel_launcher.py:9: DeprecationWarning: Call to deprecated `__getitem__` (Method will be removed in 4.0.0, use self.wv.__getitem__() instead).\n",
      "  if __name__ == '__main__':\n"
     ]
    }
   ],
   "source": [
    "train_avg_wv = get_avg_wv(train_tokens, n_feat, w2v)\n",
    "test_avg_wv = get_avg_wv(test_tokens, n_feat, w2v)"
   ]
  },
  {
   "cell_type": "markdown",
   "metadata": {},
   "source": [
    "# Weighted avg vector"
   ]
  },
  {
   "cell_type": "code",
   "execution_count": 24,
   "metadata": {},
   "outputs": [
    {
     "name": "stdout",
     "output_type": "stream",
     "text": [
      "vocab size : 99377\n"
     ]
    }
   ],
   "source": [
    "from sklearn.feature_extraction.text import TfidfVectorizer\n",
    "\n",
    "vectorizer = TfidfVectorizer(analyzer=lambda x: x)\n",
    "_ = vectorizer.fit_transform(train_tokens)\n",
    "tfidf = dict(zip(vectorizer.get_feature_names(), vectorizer.idf_))\n",
    "print('vocab size :', len(tfidf))\n",
    "\n",
    "def get_weighted_wv(tokens_series, n_feat, w2v):\n",
    "    vec = np.zeros((len(tokens_series), 1, n_feat))\n",
    "    for i, tokens in enumerate(tokens_series):\n",
    "        count = 0.\n",
    "        for word in tokens:\n",
    "            try:\n",
    "                vec[i, :] += w2v[word].reshape((1, n_feat)) * tfidf[word]\n",
    "                count += 1.\n",
    "            except KeyError: # handling the case where the token is not in the corpus\n",
    "                continue\n",
    "        if count != 0:\n",
    "            vec[i, :] /= count\n",
    "    return scale(np.concatenate(vec))"
   ]
  },
  {
   "cell_type": "code",
   "execution_count": 25,
   "metadata": {},
   "outputs": [
    {
     "name": "stderr",
     "output_type": "stream",
     "text": [
      "/Users/khuyen/anaconda3/envs/tensorflow_env/lib/python3.6/site-packages/ipykernel_launcher.py:14: DeprecationWarning: Call to deprecated `__getitem__` (Method will be removed in 4.0.0, use self.wv.__getitem__() instead).\n",
      "  \n",
      "/Users/khuyen/anaconda3/envs/tensorflow_env/lib/python3.6/site-packages/ipykernel_launcher.py:14: DeprecationWarning: Call to deprecated `__getitem__` (Method will be removed in 4.0.0, use self.wv.__getitem__() instead).\n",
      "  \n"
     ]
    }
   ],
   "source": [
    "train_weighted_wv = get_weighted_wv(train_tokens, n_feat, w2v)\n",
    "test_weighted_wv = get_weighted_wv(test_tokens, n_feat, w2v)"
   ]
  },
  {
   "cell_type": "markdown",
   "metadata": {},
   "source": [
    "# Modeling"
   ]
  },
  {
   "cell_type": "code",
   "execution_count": 26,
   "metadata": {},
   "outputs": [
    {
     "name": "stdout",
     "output_type": "stream",
     "text": [
      "Requirement already satisfied: keras in /Users/khuyen/anaconda3/envs/tensorflow_env/lib/python3.6/site-packages (2.2.4)\n",
      "Requirement already satisfied: h5py in /Users/khuyen/anaconda3/envs/tensorflow_env/lib/python3.6/site-packages (from keras) (2.9.0)\n",
      "Requirement already satisfied: keras-preprocessing>=1.0.5 in /Users/khuyen/anaconda3/envs/tensorflow_env/lib/python3.6/site-packages (from keras) (1.0.5)\n",
      "Requirement already satisfied: six>=1.9.0 in /Users/khuyen/anaconda3/envs/tensorflow_env/lib/python3.6/site-packages (from keras) (1.12.0)\n",
      "Requirement already satisfied: numpy>=1.9.1 in /Users/khuyen/anaconda3/envs/tensorflow_env/lib/python3.6/site-packages (from keras) (1.15.4)\n",
      "Requirement already satisfied: keras-applications>=1.0.6 in /Users/khuyen/anaconda3/envs/tensorflow_env/lib/python3.6/site-packages (from keras) (1.0.6)\n",
      "Requirement already satisfied: pyyaml in /Users/khuyen/anaconda3/envs/tensorflow_env/lib/python3.6/site-packages (from keras) (3.13)\n",
      "Requirement already satisfied: scipy>=0.14 in /Users/khuyen/anaconda3/envs/tensorflow_env/lib/python3.6/site-packages (from keras) (1.1.0)\n"
     ]
    }
   ],
   "source": [
    "!{sys.executable} -m pip install keras"
   ]
  },
  {
   "cell_type": "code",
   "execution_count": 27,
   "metadata": {},
   "outputs": [
    {
     "name": "stderr",
     "output_type": "stream",
     "text": [
      "Using TensorFlow backend.\n"
     ]
    }
   ],
   "source": [
    "from keras.models import Sequential\n",
    "from keras.layers import Dense, Dropout\n",
    "\n",
    "def get_model(n_feat):\n",
    "    model = Sequential()\n",
    "    model.add(Dense(32, activation='relu', input_dim=n_feat))\n",
    "    model.add(Dense(128, activation=\"relu\"))\n",
    "    #model.add(Dropout(.2))\n",
    "    model.add(Dense(256, activation=\"relu\"))\n",
    "    #model.add(Dropout(.5))\n",
    "    model.add(Dense(1, activation=\"sigmoid\"))\n",
    "    model.compile(optimizer=\"rmsprop\", loss=\"binary_crossentropy\", metrics=[\"accuracy\"])\n",
    "    return model"
   ]
  },
  {
   "cell_type": "code",
   "execution_count": 28,
   "metadata": {},
   "outputs": [
    {
     "name": "stdout",
     "output_type": "stream",
     "text": [
      "Epoch 1/10\n",
      "20000/20000 [==============================] - 3s 169us/step - loss: 0.3538 - acc: 0.8486\n",
      "Epoch 2/10\n",
      "20000/20000 [==============================] - 3s 125us/step - loss: 0.3158 - acc: 0.8679\n",
      "Epoch 3/10\n",
      "20000/20000 [==============================] - 2s 125us/step - loss: 0.3007 - acc: 0.8763\n",
      "Epoch 4/10\n",
      "20000/20000 [==============================] - 3s 125us/step - loss: 0.2916 - acc: 0.8812\n",
      "Epoch 5/10\n",
      "20000/20000 [==============================] - 3s 125us/step - loss: 0.2818 - acc: 0.8876\n",
      "Epoch 6/10\n",
      "20000/20000 [==============================] - 3s 126us/step - loss: 0.2727 - acc: 0.8894\n",
      "Epoch 7/10\n",
      "20000/20000 [==============================] - 3s 130us/step - loss: 0.2651 - acc: 0.8927\n",
      "Epoch 8/10\n",
      "20000/20000 [==============================] - 3s 132us/step - loss: 0.2555 - acc: 0.8991\n",
      "Epoch 9/10\n",
      "20000/20000 [==============================] - 3s 129us/step - loss: 0.2480 - acc: 0.9030\n",
      "Epoch 10/10\n",
      "20000/20000 [==============================] - 3s 129us/step - loss: 0.2397 - acc: 0.9053\n"
     ]
    },
    {
     "data": {
      "text/plain": [
       "<keras.callbacks.History at 0x1a510204a8>"
      ]
     },
     "execution_count": 28,
     "metadata": {},
     "output_type": "execute_result"
    }
   ],
   "source": [
    "avg_model = get_model(n_feat)\n",
    "avg_model.fit(train_avg_wv, train_labels, epochs=10)"
   ]
  },
  {
   "cell_type": "code",
   "execution_count": 29,
   "metadata": {},
   "outputs": [
    {
     "name": "stdout",
     "output_type": "stream",
     "text": [
      "Epoch 1/10\n",
      "20000/20000 [==============================] - 3s 169us/step - loss: 0.3549 - acc: 0.8491\n",
      "Epoch 2/10\n",
      "20000/20000 [==============================] - 3s 129us/step - loss: 0.3125 - acc: 0.8723\n",
      "Epoch 3/10\n",
      "20000/20000 [==============================] - 3s 127us/step - loss: 0.2994 - acc: 0.8782\n",
      "Epoch 4/10\n",
      "20000/20000 [==============================] - 3s 126us/step - loss: 0.2907 - acc: 0.8821\n",
      "Epoch 5/10\n",
      "20000/20000 [==============================] - 3s 128us/step - loss: 0.2802 - acc: 0.8877\n",
      "Epoch 6/10\n",
      "20000/20000 [==============================] - 3s 130us/step - loss: 0.2718 - acc: 0.8909\n",
      "Epoch 7/10\n",
      "20000/20000 [==============================] - 3s 130us/step - loss: 0.2628 - acc: 0.8967\n",
      "Epoch 8/10\n",
      "20000/20000 [==============================] - 3s 132us/step - loss: 0.2555 - acc: 0.8966\n",
      "Epoch 9/10\n",
      "20000/20000 [==============================] - 3s 134us/step - loss: 0.2484 - acc: 0.8992\n",
      "Epoch 10/10\n",
      "20000/20000 [==============================] - 3s 138us/step - loss: 0.2401 - acc: 0.9054\n"
     ]
    },
    {
     "data": {
      "text/plain": [
       "<keras.callbacks.History at 0x1a51020be0>"
      ]
     },
     "execution_count": 29,
     "metadata": {},
     "output_type": "execute_result"
    }
   ],
   "source": [
    "weighted_model = get_model(n_feat)\n",
    "weighted_model.fit(train_weighted_wv, train_labels, epochs=10)"
   ]
  },
  {
   "cell_type": "markdown",
   "metadata": {},
   "source": [
    "# Test model"
   ]
  },
  {
   "cell_type": "code",
   "execution_count": 30,
   "metadata": {},
   "outputs": [],
   "source": [
    "from sklearn.metrics import classification_report\n",
    "\n",
    "def predict(model, x):\n",
    "    y_pred = model.predict(x)\n",
    "    return [1 if pred >= .5 else 0 for pred in y_pred]\n",
    "def print_report(model, x, y_true):\n",
    "    y_pred = predict(model, x)\n",
    "    report = classification_report(y_true, y_pred)\n",
    "    print(report)"
   ]
  },
  {
   "cell_type": "code",
   "execution_count": 31,
   "metadata": {},
   "outputs": [
    {
     "name": "stdout",
     "output_type": "stream",
     "text": [
      "              precision    recall  f1-score   support\n",
      "\n",
      "           0       0.88      0.86      0.87      2548\n",
      "           1       0.86      0.88      0.87      2452\n",
      "\n",
      "   micro avg       0.87      0.87      0.87      5000\n",
      "   macro avg       0.87      0.87      0.87      5000\n",
      "weighted avg       0.87      0.87      0.87      5000\n",
      "\n"
     ]
    }
   ],
   "source": [
    "print_report(avg_model, test_avg_wv, test_labels)"
   ]
  },
  {
   "cell_type": "code",
   "execution_count": 32,
   "metadata": {},
   "outputs": [
    {
     "name": "stdout",
     "output_type": "stream",
     "text": [
      "              precision    recall  f1-score   support\n",
      "\n",
      "           0       0.88      0.86      0.87      2548\n",
      "           1       0.86      0.87      0.87      2452\n",
      "\n",
      "   micro avg       0.87      0.87      0.87      5000\n",
      "   macro avg       0.87      0.87      0.87      5000\n",
      "weighted avg       0.87      0.87      0.87      5000\n",
      "\n"
     ]
    }
   ],
   "source": [
    "print_report(weighted_model, test_weighted_wv, test_labels)"
   ]
  },
  {
   "cell_type": "markdown",
   "metadata": {},
   "source": [
    "# Submission"
   ]
  },
  {
   "cell_type": "code",
   "execution_count": 33,
   "metadata": {},
   "outputs": [
    {
     "data": {
      "text/html": [
       "<div>\n",
       "<style scoped>\n",
       "    .dataframe tbody tr th:only-of-type {\n",
       "        vertical-align: middle;\n",
       "    }\n",
       "\n",
       "    .dataframe tbody tr th {\n",
       "        vertical-align: top;\n",
       "    }\n",
       "\n",
       "    .dataframe thead th {\n",
       "        text-align: right;\n",
       "    }\n",
       "</style>\n",
       "<table border=\"1\" class=\"dataframe\">\n",
       "  <thead>\n",
       "    <tr style=\"text-align: right;\">\n",
       "      <th></th>\n",
       "      <th>id</th>\n",
       "      <th>review</th>\n",
       "    </tr>\n",
       "  </thead>\n",
       "  <tbody>\n",
       "    <tr>\n",
       "      <th>0</th>\n",
       "      <td>12311_10</td>\n",
       "      <td>Naturally in a film who's main themes are of m...</td>\n",
       "    </tr>\n",
       "    <tr>\n",
       "      <th>1</th>\n",
       "      <td>8348_2</td>\n",
       "      <td>This movie is a disaster within a disaster fil...</td>\n",
       "    </tr>\n",
       "    <tr>\n",
       "      <th>2</th>\n",
       "      <td>5828_4</td>\n",
       "      <td>All in all, this is a movie for kids. We saw i...</td>\n",
       "    </tr>\n",
       "    <tr>\n",
       "      <th>3</th>\n",
       "      <td>7186_2</td>\n",
       "      <td>Afraid of the Dark left me with the impression...</td>\n",
       "    </tr>\n",
       "    <tr>\n",
       "      <th>4</th>\n",
       "      <td>12128_7</td>\n",
       "      <td>A very accurate depiction of small time mob li...</td>\n",
       "    </tr>\n",
       "  </tbody>\n",
       "</table>\n",
       "</div>"
      ],
      "text/plain": [
       "         id                                             review\n",
       "0  12311_10  Naturally in a film who's main themes are of m...\n",
       "1    8348_2  This movie is a disaster within a disaster fil...\n",
       "2    5828_4  All in all, this is a movie for kids. We saw i...\n",
       "3    7186_2  Afraid of the Dark left me with the impression...\n",
       "4   12128_7  A very accurate depiction of small time mob li..."
      ]
     },
     "execution_count": 33,
     "metadata": {},
     "output_type": "execute_result"
    }
   ],
   "source": [
    "submission_data = pd.read_csv(\"testData.tsv\", sep=\"\\t\")\n",
    "submission_data.head()"
   ]
  },
  {
   "cell_type": "code",
   "execution_count": 34,
   "metadata": {},
   "outputs": [
    {
     "name": "stderr",
     "output_type": "stream",
     "text": [
      "100%|██████████| 25000/25000 [02:43<00:00, 152.85it/s]\n"
     ]
    },
    {
     "data": {
      "text/plain": [
       "0    [naturally, film, 's, main, themes, mortality,...\n",
       "1    [this, movie, disaster, disaster, film, it, gr...\n",
       "2    [all, movie, kids, we, saw, tonight, child, lo...\n",
       "3    [afraid, dark, left, impression, different, sc...\n",
       "4    [a, accurate, depiction, small, time, mob, lif...\n",
       "Name: tokens, dtype: object"
      ]
     },
     "execution_count": 34,
     "metadata": {},
     "output_type": "execute_result"
    }
   ],
   "source": [
    "submission_data[\"text\"] = remove_html_tags(submission_data[\"review\"])\n",
    "submission_data[\"tokens\"] = get_tokens(submission_data[\"text\"])\n",
    "submission_data[\"tokens\"].head()"
   ]
  },
  {
   "cell_type": "code",
   "execution_count": 35,
   "metadata": {},
   "outputs": [
    {
     "name": "stderr",
     "output_type": "stream",
     "text": [
      "/Users/khuyen/anaconda3/envs/tensorflow_env/lib/python3.6/site-packages/ipykernel_launcher.py:14: DeprecationWarning: Call to deprecated `__getitem__` (Method will be removed in 4.0.0, use self.wv.__getitem__() instead).\n",
      "  \n"
     ]
    }
   ],
   "source": [
    "submission_weighted_wv = get_weighted_wv(submission_data[\"tokens\"].tolist(), n_feat, w2v)\n",
    "submission_pred = predict(weighted_model, submission_weighted_wv)"
   ]
  },
  {
   "cell_type": "code",
   "execution_count": 36,
   "metadata": {},
   "outputs": [
    {
     "data": {
      "text/html": [
       "<div>\n",
       "<style scoped>\n",
       "    .dataframe tbody tr th:only-of-type {\n",
       "        vertical-align: middle;\n",
       "    }\n",
       "\n",
       "    .dataframe tbody tr th {\n",
       "        vertical-align: top;\n",
       "    }\n",
       "\n",
       "    .dataframe thead th {\n",
       "        text-align: right;\n",
       "    }\n",
       "</style>\n",
       "<table border=\"1\" class=\"dataframe\">\n",
       "  <thead>\n",
       "    <tr style=\"text-align: right;\">\n",
       "      <th></th>\n",
       "      <th>id</th>\n",
       "      <th>sentiment</th>\n",
       "    </tr>\n",
       "  </thead>\n",
       "  <tbody>\n",
       "    <tr>\n",
       "      <th>0</th>\n",
       "      <td>12311_10</td>\n",
       "      <td>1</td>\n",
       "    </tr>\n",
       "    <tr>\n",
       "      <th>1</th>\n",
       "      <td>8348_2</td>\n",
       "      <td>0</td>\n",
       "    </tr>\n",
       "    <tr>\n",
       "      <th>2</th>\n",
       "      <td>5828_4</td>\n",
       "      <td>0</td>\n",
       "    </tr>\n",
       "    <tr>\n",
       "      <th>3</th>\n",
       "      <td>7186_2</td>\n",
       "      <td>1</td>\n",
       "    </tr>\n",
       "    <tr>\n",
       "      <th>4</th>\n",
       "      <td>12128_7</td>\n",
       "      <td>1</td>\n",
       "    </tr>\n",
       "  </tbody>\n",
       "</table>\n",
       "</div>"
      ],
      "text/plain": [
       "         id  sentiment\n",
       "0  12311_10          1\n",
       "1    8348_2          0\n",
       "2    5828_4          0\n",
       "3    7186_2          1\n",
       "4   12128_7          1"
      ]
     },
     "execution_count": 36,
     "metadata": {},
     "output_type": "execute_result"
    }
   ],
   "source": [
    "submission_result = pd.DataFrame({\"id\": submission_data[\"id\"], \n",
    "                           \"sentiment\": submission_pred})\n",
    "submission_result.head()"
   ]
  },
  {
   "cell_type": "code",
   "execution_count": 37,
   "metadata": {},
   "outputs": [],
   "source": [
    "submission_result.to_csv(\"submission_result.csv\", index=False)"
   ]
  }
 ],
 "metadata": {
  "kernelspec": {
   "display_name": "Python 3",
   "language": "python",
   "name": "python3"
  },
  "language_info": {
   "codemirror_mode": {
    "name": "ipython",
    "version": 3
   },
   "file_extension": ".py",
   "mimetype": "text/x-python",
   "name": "python",
   "nbconvert_exporter": "python",
   "pygments_lexer": "ipython3",
   "version": "3.6.8"
  }
 },
 "nbformat": 4,
 "nbformat_minor": 2
}
